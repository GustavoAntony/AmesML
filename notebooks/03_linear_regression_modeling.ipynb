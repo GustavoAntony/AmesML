{
 "cells": [
  {
   "attachments": {},
   "cell_type": "markdown",
   "metadata": {},
   "source": [
    "# Building a regression model for predicting house sale prices"
   ]
  },
  {
   "cell_type": "code",
   "execution_count": 75,
   "metadata": {},
   "outputs": [],
   "source": [
    "import pickle\n",
    "import pathlib\n",
    "import numpy as np\n",
    "import matplotlib.pyplot as plt\n",
    "import pandas as pd\n",
    "from sklearn.metrics import mean_squared_error"
   ]
  },
  {
   "cell_type": "code",
   "execution_count": 76,
   "metadata": {},
   "outputs": [
    {
     "name": "stdout",
     "output_type": "stream",
     "text": [
      "c:\\Users\\Gustavin\\AmesML\\data\n"
     ]
    }
   ],
   "source": [
    "DATA_DIR = pathlib.Path.cwd().parent / 'data'\n",
    "print(DATA_DIR)"
   ]
  },
  {
   "cell_type": "code",
   "execution_count": 77,
   "metadata": {},
   "outputs": [],
   "source": [
    "clean_data_path = DATA_DIR / 'processed' / 'ames_clean.pkl'"
   ]
  },
  {
   "cell_type": "code",
   "execution_count": 78,
   "metadata": {},
   "outputs": [],
   "source": [
    "with open(clean_data_path, 'rb') as file:\n",
    "    data = pickle.load(file)"
   ]
  },
  {
   "cell_type": "code",
   "execution_count": 79,
   "metadata": {},
   "outputs": [
    {
     "name": "stdout",
     "output_type": "stream",
     "text": [
      "<class 'pandas.core.frame.DataFrame'>\n",
      "Index: 2751 entries, 0 to 2929\n",
      "Data columns (total 65 columns):\n",
      " #   Column          Non-Null Count  Dtype   \n",
      "---  ------          --------------  -----   \n",
      " 0   MS.SubClass     2751 non-null   category\n",
      " 1   MS.Zoning       2751 non-null   category\n",
      " 2   Lot.Frontage    2751 non-null   float64 \n",
      " 3   Lot.Area        2751 non-null   float64 \n",
      " 4   Lot.Shape       2751 non-null   category\n",
      " 5   Land.Contour    2751 non-null   category\n",
      " 6   Lot.Config      2751 non-null   category\n",
      " 7   Land.Slope      2751 non-null   category\n",
      " 8   Neighborhood    2751 non-null   category\n",
      " 9   Bldg.Type       2751 non-null   category\n",
      " 10  House.Style     2751 non-null   category\n",
      " 11  Overall.Qual    2751 non-null   category\n",
      " 12  Overall.Cond    2751 non-null   category\n",
      " 13  Roof.Style      2751 non-null   category\n",
      " 14  Mas.Vnr.Type    2751 non-null   category\n",
      " 15  Mas.Vnr.Area    2751 non-null   float64 \n",
      " 16  Exter.Qual      2751 non-null   category\n",
      " 17  Exter.Cond      2751 non-null   category\n",
      " 18  Foundation      2751 non-null   category\n",
      " 19  Bsmt.Qual       2751 non-null   category\n",
      " 20  Bsmt.Cond       2751 non-null   category\n",
      " 21  Bsmt.Exposure   2751 non-null   category\n",
      " 22  BsmtFin.Type.1  2751 non-null   category\n",
      " 23  BsmtFin.SF.1    2751 non-null   float64 \n",
      " 24  BsmtFin.Type.2  2751 non-null   category\n",
      " 25  BsmtFin.SF.2    2751 non-null   float64 \n",
      " 26  Bsmt.Unf.SF     2751 non-null   float64 \n",
      " 27  Total.Bsmt.SF   2751 non-null   float64 \n",
      " 28  Heating.QC      2751 non-null   category\n",
      " 29  Central.Air     2751 non-null   category\n",
      " 30  Electrical      2751 non-null   category\n",
      " 31  X1st.Flr.SF     2751 non-null   float64 \n",
      " 32  X2nd.Flr.SF     2751 non-null   float64 \n",
      " 33  Gr.Liv.Area     2751 non-null   float64 \n",
      " 34  Bsmt.Full.Bath  2751 non-null   float64 \n",
      " 35  Bsmt.Half.Bath  2751 non-null   float64 \n",
      " 36  Full.Bath       2751 non-null   float64 \n",
      " 37  Half.Bath       2751 non-null   float64 \n",
      " 38  Bedroom.AbvGr   2751 non-null   float64 \n",
      " 39  Kitchen.AbvGr   2751 non-null   float64 \n",
      " 40  Kitchen.Qual    2751 non-null   category\n",
      " 41  TotRms.AbvGrd   2751 non-null   float64 \n",
      " 42  Functional      2751 non-null   category\n",
      " 43  Fireplaces      2751 non-null   float64 \n",
      " 44  Garage.Type     2751 non-null   category\n",
      " 45  Garage.Finish   2751 non-null   category\n",
      " 46  Garage.Area     2751 non-null   float64 \n",
      " 47  Paved.Drive     2751 non-null   category\n",
      " 48  Wood.Deck.SF    2751 non-null   float64 \n",
      " 49  Open.Porch.SF   2751 non-null   float64 \n",
      " 50  Enclosed.Porch  2751 non-null   float64 \n",
      " 51  Screen.Porch    2751 non-null   float64 \n",
      " 52  Fence           2751 non-null   category\n",
      " 53  Mo.Sold         2751 non-null   float64 \n",
      " 54  Yr.Sold         2751 non-null   float64 \n",
      " 55  Sale.Type       2751 non-null   category\n",
      " 56  Sale.Condition  2751 non-null   category\n",
      " 57  SalePrice       2751 non-null   float64 \n",
      " 58  Condition       2751 non-null   category\n",
      " 59  HasShed         2751 non-null   bool    \n",
      " 60  HasAlley        2751 non-null   bool    \n",
      " 61  Exterior        2751 non-null   category\n",
      " 62  Garage.Age      2751 non-null   float64 \n",
      " 63  Remod.Age       2751 non-null   float64 \n",
      " 64  House.Age       2751 non-null   float64 \n",
      "dtypes: bool(2), category(34), float64(29)\n",
      "memory usage: 743.0 KB\n"
     ]
    }
   ],
   "source": [
    "data.info()"
   ]
  },
  {
   "cell_type": "code",
   "execution_count": 80,
   "metadata": {},
   "outputs": [],
   "source": [
    "import json\n",
    "row_to_json = data.iloc[0].to_json()\n",
    "\n",
    "# Write the JSON string to the file\n",
    "with open('../api/input.json', \"w\") as json_file:\n",
    "    json_file.write(row_to_json)\n"
   ]
  },
  {
   "cell_type": "code",
   "execution_count": 81,
   "metadata": {},
   "outputs": [],
   "source": [
    "model_data = data.copy()"
   ]
  },
  {
   "attachments": {},
   "cell_type": "markdown",
   "metadata": {},
   "source": [
    "## Preparing the data for the model"
   ]
  },
  {
   "attachments": {},
   "cell_type": "markdown",
   "metadata": {},
   "source": [
    "Now that we have the data all cleaned, and all the missing values accounted for, lets focus on transforming the data for the model.\n",
    "\n",
    "Lets remember what a model is. \n",
    "\n",
    "- A predictive model is a **set** of functions that receive data as input and produce a prediction, that is, an estimate of the target value as output.\n",
    "- **Train** a model is to search the set of candidate functions for one that adequately represents the **training dataset**.\n",
    "- The adequacy of a candidate function to the training data is usually determined by a **loss function** that measures how well the predictions of the function match the real values of the target within the training dataset. It is common to define a *loss function per data item* (e.g. absolute error, quadratic error, etc) and to construct the *loss function over the dataset* as the *average prediction loss*.\n",
    "\n",
    "Many models are **parametric models**. In this case, each function of the set of functions that makes the model is constructed from a vector of **parameters** that define the function, forming a **parametric function**. For instance: the linear model constructs prediction values out of a linear combination of the input features, plus a constant. The weights of the linear combination plus the constant are the parameters of the model. The set of functions that can be represented by this model is given by all possible values of the vector of parameters that define the function.\n",
    "\n",
    "Some models are called **non-parametric models**. These models usually do not have a parametric form (like the linear model). But the terminology is a bit misleading, though: usually these models *do* have parameters, and potentially an open-ended set of them! For instance, consider the \"decision tree\" model, which is one of the most prominent models of this category. The decision tree may not have a formula for the predicted value, but it does have parameters, many of them: each decision in the tree involves a choice of feature and a threshold level, and those choices must be stored as parameters of the model for use in future predictions.\n",
    "\n",
    "Each model has specific requirements for the format of the input data. Most of the time, the minimum requirement is that:\n",
    "\n",
    "- All columns are numeric;\n",
    "- There are no missing values.\n",
    "\n",
    "Some models have extra requirements. For example: the support-vector-machines model requires that the input features have comparable standard deviations - having features that have large discrepancies between features in terms of their order of magnitude (such as a feature in the fractions of unit range and another in the tens of thousands) will result in poor prediction quality.\n",
    "\n",
    "And some models may not have any special requirement at all. We will study each of those in detail in this course.\n",
    "\n",
    "Lets start our study with a simple model: the *multivariate linear regression* model. This is a model that presents the minimum requirements listed above. So we need to do a bit of processing on the original features:\n",
    "\n",
    "- *Numerical features* stay as given;\n",
    "- *Categorical features* have to be transformed into numerical features. In order to do so we need to **encode** these features, that is: to transform them into new features that convey the same information, but in a numerical form, and in a way that \"makes sense\" - we'll see it below.\n",
    "- *Ordinal features* can be transformed into numerical features in the same way as the caegorical features, or could be assigned increasing numbers in conformity with the ordered nature of the categories of the feature."
   ]
  },
  {
   "attachments": {},
   "cell_type": "markdown",
   "metadata": {},
   "source": [
    "## Encoding categorical variables"
   ]
  },
  {
   "attachments": {},
   "cell_type": "markdown",
   "metadata": {},
   "source": [
    "Lets identify all categorical variables - both nominal (that is, categoricals without category order) and ordinal."
   ]
  },
  {
   "cell_type": "code",
   "execution_count": 82,
   "metadata": {},
   "outputs": [],
   "source": [
    "categorical_columns = []\n",
    "ordinal_columns = []\n",
    "for col in model_data.select_dtypes('category').columns:\n",
    "    if model_data[col].cat.ordered:\n",
    "        ordinal_columns.append(col)\n",
    "    else:\n",
    "        categorical_columns.append(col)"
   ]
  },
  {
   "cell_type": "code",
   "execution_count": 83,
   "metadata": {},
   "outputs": [
    {
     "data": {
      "text/plain": [
       "['Lot.Shape',\n",
       " 'Land.Slope',\n",
       " 'Overall.Qual',\n",
       " 'Overall.Cond',\n",
       " 'Exter.Qual',\n",
       " 'Exter.Cond',\n",
       " 'Heating.QC',\n",
       " 'Electrical',\n",
       " 'Kitchen.Qual',\n",
       " 'Functional',\n",
       " 'Paved.Drive',\n",
       " 'Fence']"
      ]
     },
     "execution_count": 83,
     "metadata": {},
     "output_type": "execute_result"
    }
   ],
   "source": [
    "ordinal_columns"
   ]
  },
  {
   "cell_type": "code",
   "execution_count": 84,
   "metadata": {},
   "outputs": [
    {
     "data": {
      "text/plain": [
       "['MS.SubClass',\n",
       " 'MS.Zoning',\n",
       " 'Land.Contour',\n",
       " 'Lot.Config',\n",
       " 'Neighborhood',\n",
       " 'Bldg.Type',\n",
       " 'House.Style',\n",
       " 'Roof.Style',\n",
       " 'Mas.Vnr.Type',\n",
       " 'Foundation',\n",
       " 'Bsmt.Qual',\n",
       " 'Bsmt.Cond',\n",
       " 'Bsmt.Exposure',\n",
       " 'BsmtFin.Type.1',\n",
       " 'BsmtFin.Type.2',\n",
       " 'Central.Air',\n",
       " 'Garage.Type',\n",
       " 'Garage.Finish',\n",
       " 'Sale.Type',\n",
       " 'Sale.Condition',\n",
       " 'Condition',\n",
       " 'Exterior']"
      ]
     },
     "execution_count": 84,
     "metadata": {},
     "output_type": "execute_result"
    }
   ],
   "source": [
    "categorical_columns"
   ]
  },
  {
   "attachments": {},
   "cell_type": "markdown",
   "metadata": {},
   "source": [
    "### Encoding ordinal variables "
   ]
  },
  {
   "attachments": {},
   "cell_type": "markdown",
   "metadata": {},
   "source": [
    "Ordinal variables can be transformed into integer numbers in a straightforward manner: the lowest category is assigned the value \"zero\", the next category is given the value \"one\", etc. The `Pandas` library has a function for this task: `factorize()`:"
   ]
  },
  {
   "cell_type": "code",
   "execution_count": 85,
   "metadata": {},
   "outputs": [],
   "source": [
    "for col in ordinal_columns:\n",
    "    codes, _ = pd.factorize(data[col], sort=True)\n",
    "    model_data[col] = codes"
   ]
  },
  {
   "attachments": {},
   "cell_type": "markdown",
   "metadata": {},
   "source": [
    "Lets confirm that the variables are no longer ordinal, but now are integers:"
   ]
  },
  {
   "cell_type": "code",
   "execution_count": 86,
   "metadata": {},
   "outputs": [
    {
     "name": "stdout",
     "output_type": "stream",
     "text": [
      "<class 'pandas.core.frame.DataFrame'>\n",
      "Index: 2751 entries, 0 to 2929\n",
      "Data columns (total 12 columns):\n",
      " #   Column        Non-Null Count  Dtype\n",
      "---  ------        --------------  -----\n",
      " 0   Lot.Shape     2751 non-null   int64\n",
      " 1   Land.Slope    2751 non-null   int64\n",
      " 2   Overall.Qual  2751 non-null   int64\n",
      " 3   Overall.Cond  2751 non-null   int64\n",
      " 4   Exter.Qual    2751 non-null   int64\n",
      " 5   Exter.Cond    2751 non-null   int64\n",
      " 6   Heating.QC    2751 non-null   int64\n",
      " 7   Electrical    2751 non-null   int64\n",
      " 8   Kitchen.Qual  2751 non-null   int64\n",
      " 9   Functional    2751 non-null   int64\n",
      " 10  Paved.Drive   2751 non-null   int64\n",
      " 11  Fence         2751 non-null   int64\n",
      "dtypes: int64(12)\n",
      "memory usage: 279.4 KB\n"
     ]
    }
   ],
   "source": [
    "model_data[ordinal_columns].info()"
   ]
  },
  {
   "attachments": {},
   "cell_type": "markdown",
   "metadata": {},
   "source": [
    "Compare the original values with the encoded values:"
   ]
  },
  {
   "cell_type": "code",
   "execution_count": 87,
   "metadata": {},
   "outputs": [
    {
     "data": {
      "text/plain": [
       "Lot.Shape\n",
       "Reg     1738\n",
       "IR1      929\n",
       "IR2+      84\n",
       "Name: count, dtype: int64"
      ]
     },
     "execution_count": 87,
     "metadata": {},
     "output_type": "execute_result"
    }
   ],
   "source": [
    "data['Lot.Shape'].value_counts()"
   ]
  },
  {
   "cell_type": "code",
   "execution_count": 88,
   "metadata": {},
   "outputs": [
    {
     "data": {
      "text/plain": [
       "Lot.Shape\n",
       "0    1738\n",
       "1     929\n",
       "2      84\n",
       "Name: count, dtype: int64"
      ]
     },
     "execution_count": 88,
     "metadata": {},
     "output_type": "execute_result"
    }
   ],
   "source": [
    "model_data['Lot.Shape'].value_counts()"
   ]
  },
  {
   "attachments": {},
   "cell_type": "markdown",
   "metadata": {},
   "source": [
    "### Encoding nominal variables"
   ]
  },
  {
   "attachments": {},
   "cell_type": "markdown",
   "metadata": {},
   "source": [
    "With nominal variables there is no notion of order among categories. Therefore, it would be a conceptual mistake to encode them in the same manner as the ordinal variables. For instance, consider the `Exterior` variable:"
   ]
  },
  {
   "cell_type": "code",
   "execution_count": 89,
   "metadata": {},
   "outputs": [
    {
     "data": {
      "text/plain": [
       "Exterior\n",
       "VinylSd    1010\n",
       "HdBoard     426\n",
       "MetalSd     410\n",
       "Wd Sdng     374\n",
       "Plywood     197\n",
       "CemntBd     124\n",
       "BrkFace      78\n",
       "WdShing      51\n",
       "Stucco       37\n",
       "AsbShng      33\n",
       "Other        11\n",
       "Name: count, dtype: int64"
      ]
     },
     "execution_count": 89,
     "metadata": {},
     "output_type": "execute_result"
    }
   ],
   "source": [
    "model_data['Exterior'].value_counts()"
   ]
  },
  {
   "attachments": {},
   "cell_type": "markdown",
   "metadata": {},
   "source": [
    "We cannot assign an order here, lest we end up with equations like `HdBoard` + `Plywood` = `CemntBd`, which are nonsense. \n",
    "\n",
    "The strategy here to encode `Exterior` is to create several new numerical variables to represent the membership of a given data item to one of the `Exterior` categories. These are called **dummy variables**. Each of these new variables contain only the values \"zero\" or \"one\" (i.e. they are binary variables), where $1$ denotes that the data item belongs to the category represented by the variable. Evidently, for a given data item, only one dummy variable has a value of $1$, all remaining are $0$.\n",
    "\n",
    "There are two types of dummy variable encoding:\n",
    "\n",
    "- \"One-hot\" encoding: in this case we create one dummy variable per category. Let's look at the `Exterior` feature as an example. The `Pandas` function `get_dummies()` can do the encoding for us:"
   ]
  },
  {
   "cell_type": "code",
   "execution_count": 90,
   "metadata": {},
   "outputs": [
    {
     "data": {
      "text/html": [
       "<div>\n",
       "<style scoped>\n",
       "    .dataframe tbody tr th:only-of-type {\n",
       "        vertical-align: middle;\n",
       "    }\n",
       "\n",
       "    .dataframe tbody tr th {\n",
       "        vertical-align: top;\n",
       "    }\n",
       "\n",
       "    .dataframe thead th {\n",
       "        text-align: right;\n",
       "    }\n",
       "</style>\n",
       "<table border=\"1\" class=\"dataframe\">\n",
       "  <thead>\n",
       "    <tr style=\"text-align: right;\">\n",
       "      <th></th>\n",
       "      <th>0</th>\n",
       "      <th>1</th>\n",
       "      <th>2</th>\n",
       "      <th>3</th>\n",
       "      <th>4</th>\n",
       "    </tr>\n",
       "  </thead>\n",
       "  <tbody>\n",
       "    <tr>\n",
       "      <th>AsbShng</th>\n",
       "      <td>False</td>\n",
       "      <td>False</td>\n",
       "      <td>False</td>\n",
       "      <td>False</td>\n",
       "      <td>False</td>\n",
       "    </tr>\n",
       "    <tr>\n",
       "      <th>BrkFace</th>\n",
       "      <td>True</td>\n",
       "      <td>False</td>\n",
       "      <td>False</td>\n",
       "      <td>True</td>\n",
       "      <td>False</td>\n",
       "    </tr>\n",
       "    <tr>\n",
       "      <th>CemntBd</th>\n",
       "      <td>False</td>\n",
       "      <td>False</td>\n",
       "      <td>False</td>\n",
       "      <td>False</td>\n",
       "      <td>False</td>\n",
       "    </tr>\n",
       "    <tr>\n",
       "      <th>HdBoard</th>\n",
       "      <td>False</td>\n",
       "      <td>False</td>\n",
       "      <td>False</td>\n",
       "      <td>False</td>\n",
       "      <td>False</td>\n",
       "    </tr>\n",
       "    <tr>\n",
       "      <th>MetalSd</th>\n",
       "      <td>False</td>\n",
       "      <td>False</td>\n",
       "      <td>False</td>\n",
       "      <td>False</td>\n",
       "      <td>False</td>\n",
       "    </tr>\n",
       "    <tr>\n",
       "      <th>Plywood</th>\n",
       "      <td>False</td>\n",
       "      <td>False</td>\n",
       "      <td>False</td>\n",
       "      <td>False</td>\n",
       "      <td>False</td>\n",
       "    </tr>\n",
       "    <tr>\n",
       "      <th>Stucco</th>\n",
       "      <td>False</td>\n",
       "      <td>False</td>\n",
       "      <td>False</td>\n",
       "      <td>False</td>\n",
       "      <td>False</td>\n",
       "    </tr>\n",
       "    <tr>\n",
       "      <th>VinylSd</th>\n",
       "      <td>False</td>\n",
       "      <td>True</td>\n",
       "      <td>False</td>\n",
       "      <td>False</td>\n",
       "      <td>True</td>\n",
       "    </tr>\n",
       "    <tr>\n",
       "      <th>Wd Sdng</th>\n",
       "      <td>False</td>\n",
       "      <td>False</td>\n",
       "      <td>True</td>\n",
       "      <td>False</td>\n",
       "      <td>False</td>\n",
       "    </tr>\n",
       "    <tr>\n",
       "      <th>WdShing</th>\n",
       "      <td>False</td>\n",
       "      <td>False</td>\n",
       "      <td>False</td>\n",
       "      <td>False</td>\n",
       "      <td>False</td>\n",
       "    </tr>\n",
       "    <tr>\n",
       "      <th>Other</th>\n",
       "      <td>False</td>\n",
       "      <td>False</td>\n",
       "      <td>False</td>\n",
       "      <td>False</td>\n",
       "      <td>False</td>\n",
       "    </tr>\n",
       "    <tr>\n",
       "      <th>Exterior</th>\n",
       "      <td>BrkFace</td>\n",
       "      <td>VinylSd</td>\n",
       "      <td>Wd Sdng</td>\n",
       "      <td>BrkFace</td>\n",
       "      <td>VinylSd</td>\n",
       "    </tr>\n",
       "  </tbody>\n",
       "</table>\n",
       "</div>"
      ],
      "text/plain": [
       "                0        1        2        3        4\n",
       "AsbShng     False    False    False    False    False\n",
       "BrkFace      True    False    False     True    False\n",
       "CemntBd     False    False    False    False    False\n",
       "HdBoard     False    False    False    False    False\n",
       "MetalSd     False    False    False    False    False\n",
       "Plywood     False    False    False    False    False\n",
       "Stucco      False    False    False    False    False\n",
       "VinylSd     False     True    False    False     True\n",
       "Wd Sdng     False    False     True    False    False\n",
       "WdShing     False    False    False    False    False\n",
       "Other       False    False    False    False    False\n",
       "Exterior  BrkFace  VinylSd  Wd Sdng  BrkFace  VinylSd"
      ]
     },
     "execution_count": 90,
     "metadata": {},
     "output_type": "execute_result"
    }
   ],
   "source": [
    "original_data = model_data['Exterior']\n",
    "encoded_data = pd.get_dummies(original_data)\n",
    "\n",
    "aux_dataframe = encoded_data\n",
    "aux_dataframe['Exterior'] = original_data.copy()\n",
    "\n",
    "aux_dataframe.head().transpose()"
   ]
  },
  {
   "attachments": {},
   "cell_type": "markdown",
   "metadata": {},
   "source": [
    "Observe that for each value of `Exterior`, only the corresponding dummy is flagged.\n",
    "\n",
    "One-hot encoding is a popular technique in Machine Learning. Statisticians, however, prefer a slightly different way of dummy encoding which is:\n",
    "\n",
    "- Choose a category to *not encode* (this is called the *base category*)\n",
    "- Generate dummies for the remaining categories. That is:\n",
    "    - If the data item belongs to the base category, no dummy receives a value of $1$;\n",
    "    - Otherwise, set the corresponding dummy to $1$.\n",
    "\n",
    "The same `get_dummies()` function of `Pandas` can do this automatically with the `drop_first` argument:"
   ]
  },
  {
   "cell_type": "code",
   "execution_count": 91,
   "metadata": {},
   "outputs": [
    {
     "data": {
      "text/html": [
       "<div>\n",
       "<style scoped>\n",
       "    .dataframe tbody tr th:only-of-type {\n",
       "        vertical-align: middle;\n",
       "    }\n",
       "\n",
       "    .dataframe tbody tr th {\n",
       "        vertical-align: top;\n",
       "    }\n",
       "\n",
       "    .dataframe thead th {\n",
       "        text-align: right;\n",
       "    }\n",
       "</style>\n",
       "<table border=\"1\" class=\"dataframe\">\n",
       "  <thead>\n",
       "    <tr style=\"text-align: right;\">\n",
       "      <th></th>\n",
       "      <th>0</th>\n",
       "      <th>1</th>\n",
       "      <th>2</th>\n",
       "      <th>3</th>\n",
       "      <th>4</th>\n",
       "    </tr>\n",
       "  </thead>\n",
       "  <tbody>\n",
       "    <tr>\n",
       "      <th>BrkFace</th>\n",
       "      <td>True</td>\n",
       "      <td>False</td>\n",
       "      <td>False</td>\n",
       "      <td>True</td>\n",
       "      <td>False</td>\n",
       "    </tr>\n",
       "    <tr>\n",
       "      <th>CemntBd</th>\n",
       "      <td>False</td>\n",
       "      <td>False</td>\n",
       "      <td>False</td>\n",
       "      <td>False</td>\n",
       "      <td>False</td>\n",
       "    </tr>\n",
       "    <tr>\n",
       "      <th>HdBoard</th>\n",
       "      <td>False</td>\n",
       "      <td>False</td>\n",
       "      <td>False</td>\n",
       "      <td>False</td>\n",
       "      <td>False</td>\n",
       "    </tr>\n",
       "    <tr>\n",
       "      <th>MetalSd</th>\n",
       "      <td>False</td>\n",
       "      <td>False</td>\n",
       "      <td>False</td>\n",
       "      <td>False</td>\n",
       "      <td>False</td>\n",
       "    </tr>\n",
       "    <tr>\n",
       "      <th>Plywood</th>\n",
       "      <td>False</td>\n",
       "      <td>False</td>\n",
       "      <td>False</td>\n",
       "      <td>False</td>\n",
       "      <td>False</td>\n",
       "    </tr>\n",
       "    <tr>\n",
       "      <th>Stucco</th>\n",
       "      <td>False</td>\n",
       "      <td>False</td>\n",
       "      <td>False</td>\n",
       "      <td>False</td>\n",
       "      <td>False</td>\n",
       "    </tr>\n",
       "    <tr>\n",
       "      <th>VinylSd</th>\n",
       "      <td>False</td>\n",
       "      <td>True</td>\n",
       "      <td>False</td>\n",
       "      <td>False</td>\n",
       "      <td>True</td>\n",
       "    </tr>\n",
       "    <tr>\n",
       "      <th>Wd Sdng</th>\n",
       "      <td>False</td>\n",
       "      <td>False</td>\n",
       "      <td>True</td>\n",
       "      <td>False</td>\n",
       "      <td>False</td>\n",
       "    </tr>\n",
       "    <tr>\n",
       "      <th>WdShing</th>\n",
       "      <td>False</td>\n",
       "      <td>False</td>\n",
       "      <td>False</td>\n",
       "      <td>False</td>\n",
       "      <td>False</td>\n",
       "    </tr>\n",
       "    <tr>\n",
       "      <th>Other</th>\n",
       "      <td>False</td>\n",
       "      <td>False</td>\n",
       "      <td>False</td>\n",
       "      <td>False</td>\n",
       "      <td>False</td>\n",
       "    </tr>\n",
       "    <tr>\n",
       "      <th>Exterior</th>\n",
       "      <td>BrkFace</td>\n",
       "      <td>VinylSd</td>\n",
       "      <td>Wd Sdng</td>\n",
       "      <td>BrkFace</td>\n",
       "      <td>VinylSd</td>\n",
       "    </tr>\n",
       "  </tbody>\n",
       "</table>\n",
       "</div>"
      ],
      "text/plain": [
       "                0        1        2        3        4\n",
       "BrkFace      True    False    False     True    False\n",
       "CemntBd     False    False    False    False    False\n",
       "HdBoard     False    False    False    False    False\n",
       "MetalSd     False    False    False    False    False\n",
       "Plywood     False    False    False    False    False\n",
       "Stucco      False    False    False    False    False\n",
       "VinylSd     False     True    False    False     True\n",
       "Wd Sdng     False    False     True    False    False\n",
       "WdShing     False    False    False    False    False\n",
       "Other       False    False    False    False    False\n",
       "Exterior  BrkFace  VinylSd  Wd Sdng  BrkFace  VinylSd"
      ]
     },
     "execution_count": 91,
     "metadata": {},
     "output_type": "execute_result"
    }
   ],
   "source": [
    "original_data = model_data['Exterior']\n",
    "encoded_data = pd.get_dummies(original_data, drop_first=True)\n",
    "\n",
    "aux_dataframe = encoded_data\n",
    "aux_dataframe['Exterior'] = original_data.copy()\n",
    "\n",
    "aux_dataframe.head().transpose()"
   ]
  },
  {
   "attachments": {},
   "cell_type": "markdown",
   "metadata": {},
   "source": [
    "Notice that we are now missing the dummy variable for the `AsbShng` category.\n",
    "\n",
    "Why to encode things this way? If we don't drop one of the dummies, then it will always be the case that the sum of the values of the dummies is $1$ (since each data item must belong to one of the categories). The linear model, particularly very popular with the statisticians, implies the existence of a fictitious feature containing, for all data items, the value $1$. Hence we end up having a set of variables where a linear combination of them (in this case, the sum of the dummies) matches the value at another variable. This has numerical computing implications for the linear model, that we will discuss in class.\n",
    "\n",
    "Since we want to use the linear model in this notebook, lets encode all categoricals with the `drop_first` alternative."
   ]
  },
  {
   "cell_type": "code",
   "execution_count": 92,
   "metadata": {},
   "outputs": [],
   "source": [
    "model_data = pd.get_dummies(model_data, drop_first=True)"
   ]
  },
  {
   "attachments": {},
   "cell_type": "markdown",
   "metadata": {},
   "source": [
    "Now our dataset has a lot more variables!"
   ]
  },
  {
   "cell_type": "code",
   "execution_count": 93,
   "metadata": {},
   "outputs": [
    {
     "name": "stdout",
     "output_type": "stream",
     "text": [
      "<class 'pandas.core.frame.DataFrame'>\n",
      "Index: 2751 entries, 0 to 2929\n",
      "Columns: 157 entries, Lot.Frontage to Exterior_Other\n",
      "dtypes: bool(116), float64(29), int64(12)\n",
      "memory usage: 1.2 MB\n"
     ]
    }
   ],
   "source": [
    "model_data.info()"
   ]
  },
  {
   "cell_type": "code",
   "execution_count": 94,
   "metadata": {},
   "outputs": [
    {
     "name": "stdout",
     "output_type": "stream",
     "text": [
      "From column \"MS.SubClass\" we made \"MS.SubClass_30\", \"MS.SubClass_50\", \"MS.SubClass_60\", \"MS.SubClass_70\", \"MS.SubClass_80\", \"MS.SubClass_85\", \"MS.SubClass_90\", \"MS.SubClass_120\", \"MS.SubClass_160\", \"MS.SubClass_190\", \"MS.SubClass_Other\"\n",
      "\n",
      "From column \"MS.Zoning\" we made \"MS.Zoning_RH\", \"MS.Zoning_RL\", \"MS.Zoning_RM\"\n",
      "\n",
      "From column \"Land.Contour\" we made \"Land.Contour_HLS\", \"Land.Contour_Low\", \"Land.Contour_Lvl\"\n",
      "\n",
      "From column \"Lot.Config\" we made \"Lot.Config_CulDSac\", \"Lot.Config_FR2+\", \"Lot.Config_Inside\"\n",
      "\n",
      "From column \"Neighborhood\" we made \"Neighborhood_BrDale\", \"Neighborhood_BrkSide\", \"Neighborhood_ClearCr\", \"Neighborhood_CollgCr\", \"Neighborhood_Crawfor\", \"Neighborhood_Edwards\", \"Neighborhood_Gilbert\", \"Neighborhood_IDOTRR\", \"Neighborhood_MeadowV\", \"Neighborhood_Mitchel\", \"Neighborhood_NAmes\", \"Neighborhood_NPkVill\", \"Neighborhood_NWAmes\", \"Neighborhood_NoRidge\", \"Neighborhood_NridgHt\", \"Neighborhood_OldTown\", \"Neighborhood_SWISU\", \"Neighborhood_Sawyer\", \"Neighborhood_SawyerW\", \"Neighborhood_Somerst\", \"Neighborhood_StoneBr\", \"Neighborhood_Timber\", \"Neighborhood_Veenker\"\n",
      "\n",
      "From column \"Bldg.Type\" we made \"Bldg.Type_2fmCon\", \"Bldg.Type_Duplex\", \"Bldg.Type_Twnhs\", \"Bldg.Type_TwnhsE\"\n",
      "\n",
      "From column \"House.Style\" we made \"House.Style_Other\", \"House.Style_1Story\", \"House.Style_2Story\", \"House.Style_SFoyer\", \"House.Style_SLvl\"\n",
      "\n",
      "From column \"Roof.Style\" we made \"Roof.Style_Hip\", \"Roof.Style_Other\"\n",
      "\n",
      "From column \"Mas.Vnr.Type\" we made \"Mas.Vnr.Type_Stone\", \"Mas.Vnr.Type_Other\", \"Mas.Vnr.Type_None\"\n",
      "\n",
      "From column \"Foundation\" we made \"Foundation_CBlock\", \"Foundation_PConc\", \"Foundation_Other\"\n",
      "\n",
      "From column \"Bsmt.Qual\" we made \"Bsmt.Qual_Gd\", \"Bsmt.Qual_TA\", \"Bsmt.Qual_Fa\", \"Bsmt.Qual_NA\"\n",
      "\n",
      "From column \"Bsmt.Cond\" we made \"Bsmt.Cond_TA\", \"Bsmt.Cond_Fa\", \"Bsmt.Cond_NA\"\n",
      "\n",
      "From column \"Bsmt.Exposure\" we made \"Bsmt.Exposure_Av\", \"Bsmt.Exposure_Mn\", \"Bsmt.Exposure_No\", \"Bsmt.Exposure_NA\"\n",
      "\n",
      "From column \"BsmtFin.Type.1\" we made \"BsmtFin.Type.1_ALQ\", \"BsmtFin.Type.1_BLQ\", \"BsmtFin.Type.1_Rec\", \"BsmtFin.Type.1_LwQ\", \"BsmtFin.Type.1_Unf\", \"BsmtFin.Type.1_NA\"\n",
      "\n",
      "From column \"BsmtFin.Type.2\" we made \"BsmtFin.Type.2_ALQ\", \"BsmtFin.Type.2_BLQ\", \"BsmtFin.Type.2_Rec\", \"BsmtFin.Type.2_LwQ\", \"BsmtFin.Type.2_Unf\", \"BsmtFin.Type.2_NA\"\n",
      "\n",
      "From column \"Central.Air\" we made \"Central.Air_Y\"\n",
      "\n",
      "From column \"Garage.Type\" we made \"Garage.Type_Attchd\", \"Garage.Type_Basment\", \"Garage.Type_BuiltIn\", \"Garage.Type_CarPort\", \"Garage.Type_Detchd\", \"Garage.Type_NoGarage\"\n",
      "\n",
      "From column \"Garage.Finish\" we made \"Garage.Finish_RFn\", \"Garage.Finish_Unf\", \"Garage.Finish_NoGarage\"\n",
      "\n",
      "From column \"Sale.Type\" we made \"Sale.Type_GroupedWD\", \"Sale.Type_Other\"\n",
      "\n",
      "From column \"Sale.Condition\" we made \"Sale.Condition_AdjLand\", \"Sale.Condition_Alloca\", \"Sale.Condition_Family\", \"Sale.Condition_Normal\", \"Sale.Condition_Partial\"\n",
      "\n",
      "From column \"Condition\" we made \"Condition_Railroad\", \"Condition_Roads\", \"Condition_Positive\", \"Condition_RoadsAndRailroad\"\n",
      "\n",
      "From column \"Exterior\" we made \"Exterior_BrkFace\", \"Exterior_CemntBd\", \"Exterior_HdBoard\", \"Exterior_MetalSd\", \"Exterior_Plywood\", \"Exterior_Stucco\", \"Exterior_VinylSd\", \"Exterior_Wd Sdng\", \"Exterior_WdShing\", \"Exterior_Other\"\n",
      "\n"
     ]
    }
   ],
   "source": [
    "for cat in categorical_columns:\n",
    "    dummies = []\n",
    "    for col in model_data.columns:\n",
    "        if col.startswith(cat + \"_\"):\n",
    "            dummies.append(f'\"{col}\"')\n",
    "    dummies_str = ', '.join(dummies)\n",
    "    print(f'From column \"{cat}\" we made {dummies_str}\\n')"
   ]
  },
  {
   "cell_type": "code",
   "execution_count": 95,
   "metadata": {},
   "outputs": [],
   "source": [
    "data_columns = list(model_data.columns)\n"
   ]
  },
  {
   "attachments": {},
   "cell_type": "markdown",
   "metadata": {},
   "source": [
    "## Train-test splitting"
   ]
  },
  {
   "attachments": {},
   "cell_type": "markdown",
   "metadata": {},
   "source": [
    "The data will now be organized as follows:\n",
    "\n",
    "- The features form a matrix $X$ of size $m \\times n$, where $m$ is the number of data items, and $n$ is the number of features.\n",
    "- The target forms a column-matrix $y$ of length $m$."
   ]
  },
  {
   "cell_type": "code",
   "execution_count": 96,
   "metadata": {},
   "outputs": [],
   "source": [
    "X = model_data.drop(columns=['SalePrice']).copy()\n",
    "y = model_data['SalePrice'].copy()"
   ]
  },
  {
   "cell_type": "code",
   "execution_count": 97,
   "metadata": {},
   "outputs": [
    {
     "data": {
      "text/plain": [
       "(array([[141.0, 31770.0, 1, ..., False, False, False],\n",
       "        [80.0, 11622.0, 0, ..., False, False, False],\n",
       "        [81.0, 14267.0, 1, ..., True, False, False],\n",
       "        ...,\n",
       "        [62.0, 10441.0, 0, ..., False, False, False],\n",
       "        [77.0, 10010.0, 0, ..., False, False, False],\n",
       "        [74.0, 9627.0, 0, ..., False, False, False]], dtype=object),\n",
       " array([5.33243846, 5.0211893 , 5.23552845, ..., 5.12057393, 5.23044892,\n",
       "        5.27415785]))"
      ]
     },
     "execution_count": 97,
     "metadata": {},
     "output_type": "execute_result"
    }
   ],
   "source": [
    "X.values, y.values"
   ]
  },
  {
   "attachments": {},
   "cell_type": "markdown",
   "metadata": {},
   "source": [
    "This is the typical set-up of a machine learning project. Now we want to train our model *and* verify that the model provides good predictions for *unseen* data items. Why the emphasis on \"unseen\"? Because there is no use for a model that only gives predictions for the items in the data used to train it - we want our models to *generalize*.\n",
    "\n",
    "The way to assess the model's performance for unseen values is to split the dataset into two subsets: the **training** and **test** datasets.\n",
    "\n",
    "We have been using a lot of `Pandas` to manipulate our data so far. From now on we will switch to another very popular library for machine learning in Python: `Scikit-Learn`.\n",
    "\n",
    "The function `train_test_split()` will take as arguments the dataset to be split, the specification of the fraction of the dataset to be reserved for testing, and a random seed value - so that the split will always be the same whenever we run our notebook. This is a customary measure to ensure reproducibility of the notebook."
   ]
  },
  {
   "cell_type": "code",
   "execution_count": 98,
   "metadata": {},
   "outputs": [],
   "source": [
    "from sklearn.model_selection import train_test_split"
   ]
  },
  {
   "cell_type": "code",
   "execution_count": 99,
   "metadata": {},
   "outputs": [],
   "source": [
    "RANDOM_SEED = 42  # Any number here, really."
   ]
  },
  {
   "cell_type": "code",
   "execution_count": 100,
   "metadata": {},
   "outputs": [],
   "source": [
    "Xtrain, Xtest, ytrain, ytest = train_test_split(\n",
    "    X,\n",
    "    y,\n",
    "    test_size=0.25,\n",
    "    random_state=RANDOM_SEED,\n",
    ")\n"
   ]
  },
  {
   "cell_type": "code",
   "execution_count": 101,
   "metadata": {},
   "outputs": [
    {
     "data": {
      "text/plain": [
       "((2751, 156), (2063, 156), (688, 156))"
      ]
     },
     "execution_count": 101,
     "metadata": {},
     "output_type": "execute_result"
    }
   ],
   "source": [
    "X.shape, Xtrain.shape, Xtest.shape"
   ]
  },
  {
   "cell_type": "code",
   "execution_count": 102,
   "metadata": {},
   "outputs": [
    {
     "data": {
      "text/plain": [
       "((2751,), (2063,), (688,))"
      ]
     },
     "execution_count": 102,
     "metadata": {},
     "output_type": "execute_result"
    }
   ],
   "source": [
    "y.shape, ytrain.shape, ytest.shape"
   ]
  },
  {
   "cell_type": "code",
   "execution_count": 103,
   "metadata": {},
   "outputs": [],
   "source": [
    "def plot_importances(data_columns, feature_importances,title):\n",
    "    l = zip(data_columns, feature_importances)\n",
    "    sorted_list = sorted(l, key=lambda x: x[1], reverse=True)\n",
    "    dict_importances = {col : importance for col, importance in sorted_list}\n",
    "    dict_plot = dict(list(dict_importances.items())[0:10])\n",
    "    x_plot = list(dict_plot.keys())\n",
    "    y_plot = list(dict_plot.values())\n",
    "    #ploting the graph\n",
    "    plt.figure(figsize=(5,3))\n",
    "    plt.title(title)\n",
    "    plt.bar(x_plot, y_plot)\n",
    "    plt.xticks(rotation=90)\n",
    "    plt.show()"
   ]
  },
  {
   "attachments": {},
   "cell_type": "markdown",
   "metadata": {},
   "source": [
    "## Fitting a linear model"
   ]
  },
  {
   "attachments": {},
   "cell_type": "markdown",
   "metadata": {},
   "source": [
    "Lets start with fitting a linear model for regression. The linear model is one of the oldest and most used models for regression, due to its simplicity and strong statistical roots. A proper statistical approach to the understanding of the linear model consists of:\n",
    "\n",
    "- Understanding the statistical premises of the linear model;\n",
    "- Analyzing the features to verify that the preliminary conditions of this modeling strategy are satisfied;\n",
    "- Fitting the model;\n",
    "- Analyzing the residuals to confirm that the post-fit conditions are satisfied.\n",
    "\n",
    "Lets discuss these topics in more detail:"
   ]
  },
  {
   "attachments": {},
   "cell_type": "markdown",
   "metadata": {},
   "source": [
    "### The statistical approach to the linear model"
   ]
  },
  {
   "attachments": {},
   "cell_type": "markdown",
   "metadata": {},
   "source": [
    "In machine learning we are more interested in the predictive capability of a model, rather than its inductive use to analyze the relation between features and target (or independent and dependent variables, in the statistical terminology). But even to a machine learning practitioner, understanding the statistical basis of the linear model may lead to better predictive performance. For instance:\n",
    "\n",
    "- Having a symmetrical residual is usually associated with better mean-squared-error (MSE) than having a long-tailed assymmetric residual;\n",
    "- Non-significant parameters (in a hypothesis-testing sense) may indicate superfluous variables in the model, which could be associated with reduced performance in the test dataset (i.e. poor generalization).\n",
    "\n",
    "So what is the linear model in statistics? A statistical model is a way to describe probabilistically the relation between features and targets, usually in a parametric way.\n",
    "\n",
    "Mathematically, we are searching for a *conditional probability* density model of the form $f(Y = y | \\mathbf{x}, \\theta)$ where $\\mathbf{x}$ is the feature vector, $Y$ is the random variable associated with the target, and $\\theta$ is the vector of parameters. In plain language, we would like to describe the probability distribution of the target variable when the value of the feature vector is known and the parameters of the model are given.\n",
    "\n",
    "In the linear model, we postulate that the data $y$ is generated from the feature vector $\\mathbf{x}$ plus a random Gaussian noise of fixed standard deviation, as shown in the equation below:\n",
    "\n",
    "$$\n",
    "y = \\theta_0 + \\theta_1 x_1 + \\theta_2 x_2 + \\cdots + \\theta_n x_n + \\varepsilon\n",
    "$$\n",
    "\n",
    "where $\\varepsilon \\sim N(0, \\sigma)$\n",
    "\n",
    "The addition of the noise term causes the $y$ value to become a random variable itself, thus making the probabilistic model mentioned above. For a given value of $\\mathbf{x}$, the value of $y$ is obtained by adding the constant value $\\theta_0 + \\theta_1 x_1 + \\theta_2 x_2 + \\cdots + \\theta_n x_n$ to a normal random variable $\\varepsilon$. Remember that, for normal random variables, adding a constant keeps the variable normal, with a shifted mean-value parameter. Therefore:\n",
    "\n",
    "$$\n",
    "Y \\sim N(\\mu = (\\theta_0 + \\theta_1 x_1 + \\theta_2 x_2 + \\cdots + \\theta_n x_n), \\sigma)\n",
    "$$\n",
    "\n",
    "Lets write\n",
    "\n",
    "$$\n",
    "\\hat{y} = \\theta_0 + \\theta_1 x_1 + \\theta_2 x_2 + \\cdots + \\theta_n x_n\n",
    "$$\n",
    "\n",
    "for simplicity, then the model above is rewritten as:\n",
    "\n",
    "$$\n",
    "Y \\sim N(\\mu = \\hat{y}, \\sigma)\n",
    "$$\n",
    "\n",
    "When we have a dataset $D = \\{(\\mathbf{x}_1, y_1), (\\mathbf{x}_2, y_2), \\cdots, (\\mathbf{x}_m, y_m)\\}$ of several $(\\mathbf{x}, y)$ pairs, what is their joint conditional probability density function $f(y_1, y_2, \\cdots, y_m | x_1, x_2, \\cdots, x_n, \\theta)$?\n",
    "\n",
    "We will make another supposition of the linear model: that the $(\\mathbf{x}, y)$ examples were obtained independently, and that the value of one does not impact the probability of the other. Therefore:\n",
    "\n",
    "$$\n",
    "f(y_1, y_2, \\cdots, y_m | x_1, x_2, \\cdots, x_n, \\theta) = f(y_1| x_1, \\theta) f(y_2| x_2, \\theta) \\cdots f(y_m| x_m, \\theta) \n",
    "$$\n",
    "\n",
    "Remember that the normal probability density function is as follows:\n",
    "\n",
    "$$\n",
    "Y \\sim N(\\mu, \\sigma) \\Rightarrow f(y) = \\frac{1}{\\sigma \\sqrt{2 \\pi}} \\exp \\left(-\\frac{1}{2}\\frac{(y - \\mu)^2}{\\sigma^2} \\right)\n",
    "$$\n",
    "\n",
    "Thus:\n",
    "\n",
    "$$\n",
    "Y \\sim N(\\mu = \\hat{y}, \\sigma) \\Rightarrow f(y) = \\frac{1}{\\sigma \\sqrt{2 \\pi}} \\exp \\left(-\\frac{1}{2}\\frac{(y - \\hat{y})^2}{\\sigma^2} \\right)\n",
    "$$\n",
    "\n",
    "And the joint conditional probability density function of the entire dataset becomes:\n",
    "\n",
    "\n",
    "$$\n",
    "f(y_1, y_2, \\cdots, y_m | x_1, x_2, \\cdots, x_n, \\theta) = \\prod_{i=1}^{m} \\left(\\frac{1}{\\sigma \\sqrt{2 \\pi}} \\exp \\left(-\\frac{1}{2}\\frac{(y_i - \\hat{y_i})^2}{\\sigma^2} \\right) \\right)\n",
    "$$\n",
    "\n",
    "Expanding the product we have:\n",
    "\n",
    "$$\n",
    "\\begin{align*}\n",
    "f(y_1, y_2, \\cdots, y_m | x_1, x_2, \\cdots, x_n, \\theta) & = & \\prod_{i=1}^{m} \\left(\\frac{1}{\\sigma \\sqrt{2 \\pi}} \\exp \\left(-\\frac{1}{2}\\frac{(y_i - \\hat{y_i})^2}{\\sigma^2} \\right) \\right) \\\\\n",
    "& = & \\prod_{i=1}^{m} \\left(\\frac{1}{\\sigma \\sqrt{2 \\pi}} \\right) \\prod_{i=1}^{m} \\left( \\exp \\left(-\\frac{1}{2}\\frac{(y_i - \\hat{y_i})^2}{\\sigma^2} \\right) \\right) \\\\\n",
    "& = & \\left(\\frac{1}{\\sigma \\sqrt{2 \\pi}} \\right)^{m} \\exp \\left(\\sum_{i=1}^{m} \\left(-\\frac{1}{2}\\frac{(y_i - \\hat{y_i})^2}{\\sigma^2} \\right) \\right) \\\\\n",
    "& = & \\left(\\frac{1}{\\sigma \\sqrt{2 \\pi}} \\right)^{m} \\exp \\left(- \\frac{1}{2 \\sigma} \\sum_{i=1}^{m} (y_i - \\hat{y_i})^2 \\right)\n",
    "\\end{align*}\n",
    "$$\n",
    "\n",
    "What are the \"best\" value for the parameters of the linear model? We can search for the parameters that maximize the joint conditional probability density function of the dataset. This function is called the *likelihood* of the parameters, and therefore our solution here is called a *\"maximum likelihood estimate\"* of the parameters.\n",
    "\n",
    "So we are looking for a value $\\theta^{\\star}$ of $\\theta$ to maximize $f(y_1, y_2, \\cdots, y_m | x_1, x_2, \\cdots, x_n, \\theta)$, that is:\n",
    "\n",
    "$$\n",
    "\\begin{align*}\n",
    "\\theta^{\\star} & = & \\argmax_{\\theta} \\left\\{ f(y_1, y_2, \\cdots, y_m | x_1, x_2, \\cdots, x_n, \\theta) \\right\\}\\\\\n",
    "& = & \\argmax_{\\theta} \\left\\{ \\left(\\frac{1}{\\sigma \\sqrt{2 \\pi}} \\right)^{m} \\exp \\left(- \\frac{1}{2 \\sigma} \\sum_{i=1}^{m} (y_i - \\hat{y_i})^2 \\right) \\right\\} \\\\\n",
    "& = & \\argmax_{\\theta} \\left\\{ \\exp \\left(- \\frac{1}{2 \\sigma} \\sum_{i=1}^{m} (y_i - \\hat{y_i})^2 \\right) \\right\\} \\\\\n",
    "& = & \\argmax_{\\theta} \\left\\{ - \\frac{1}{2 \\sigma} \\sum_{i=1}^{m} (y_i - \\hat{y_i})^2 \\right\\} \\\\\n",
    "& = & \\argmin_{\\theta} \\left\\{ \\frac{1}{2 \\sigma} \\sum_{i=1}^{m} (y_i - \\hat{y_i})^2 \\right\\} \\\\\n",
    "& = & \\argmin_{\\theta} \\left\\{ \\sum_{i=1}^{m} (y_i - \\hat{y_i})^2 \\right\\} \\\\\n",
    "& = & \\argmin_{\\theta} \\left\\{ \\frac{1}{m} \\sum_{i=1}^{m} (y_i - \\hat{y_i})^2 \\right\\} \\\\\n",
    "\\end{align*}\n",
    "$$\n",
    "\n",
    "Hey, look who we found! Our old friend MSE (mean-squared-error)!\n",
    "\n",
    "So, in the end, here are the lessons:\n",
    "\n",
    "- The statistical formulation of the linear model leads to the same error formulation of machine learning, which only cares for the prediction quality.\n",
    "- The statistical linear model has several assumptions:\n",
    "    - The samples are independent;\n",
    "    - The target is *truly* generated from the linear predictive formula plus a normally-distributed error;\n",
    "    - The error has zero mean and constant standard deviation (the *homoscedasticity* hypothesis);\n",
    "    - There is no error in the feature measurement. That is, $\\mathbf{x}_{i}$ are constants, not random variables. All the error is in the target;\n",
    "- If the assumptions of the linear model are satisfied, you can analyze the parameters with greater sophistication (the machine learning formulation does not bring this finesse). For instance, you can run hypothesis tests on the values of the parameters to determine whether they refute the null hypothesis $\\theta_i = 0$ with a given statistical significance level. Which, in plain language, means that you don't really trust that the associated feature impacts the target, or if it is just an accident."
   ]
  },
  {
   "cell_type": "code",
   "execution_count": 104,
   "metadata": {},
   "outputs": [],
   "source": [
    "from sklearn.linear_model import LinearRegression"
   ]
  },
  {
   "cell_type": "code",
   "execution_count": 105,
   "metadata": {},
   "outputs": [
    {
     "data": {
      "text/html": [
       "<style>#sk-container-id-3 {color: black;}#sk-container-id-3 pre{padding: 0;}#sk-container-id-3 div.sk-toggleable {background-color: white;}#sk-container-id-3 label.sk-toggleable__label {cursor: pointer;display: block;width: 100%;margin-bottom: 0;padding: 0.3em;box-sizing: border-box;text-align: center;}#sk-container-id-3 label.sk-toggleable__label-arrow:before {content: \"▸\";float: left;margin-right: 0.25em;color: #696969;}#sk-container-id-3 label.sk-toggleable__label-arrow:hover:before {color: black;}#sk-container-id-3 div.sk-estimator:hover label.sk-toggleable__label-arrow:before {color: black;}#sk-container-id-3 div.sk-toggleable__content {max-height: 0;max-width: 0;overflow: hidden;text-align: left;background-color: #f0f8ff;}#sk-container-id-3 div.sk-toggleable__content pre {margin: 0.2em;color: black;border-radius: 0.25em;background-color: #f0f8ff;}#sk-container-id-3 input.sk-toggleable__control:checked~div.sk-toggleable__content {max-height: 200px;max-width: 100%;overflow: auto;}#sk-container-id-3 input.sk-toggleable__control:checked~label.sk-toggleable__label-arrow:before {content: \"▾\";}#sk-container-id-3 div.sk-estimator input.sk-toggleable__control:checked~label.sk-toggleable__label {background-color: #d4ebff;}#sk-container-id-3 div.sk-label input.sk-toggleable__control:checked~label.sk-toggleable__label {background-color: #d4ebff;}#sk-container-id-3 input.sk-hidden--visually {border: 0;clip: rect(1px 1px 1px 1px);clip: rect(1px, 1px, 1px, 1px);height: 1px;margin: -1px;overflow: hidden;padding: 0;position: absolute;width: 1px;}#sk-container-id-3 div.sk-estimator {font-family: monospace;background-color: #f0f8ff;border: 1px dotted black;border-radius: 0.25em;box-sizing: border-box;margin-bottom: 0.5em;}#sk-container-id-3 div.sk-estimator:hover {background-color: #d4ebff;}#sk-container-id-3 div.sk-parallel-item::after {content: \"\";width: 100%;border-bottom: 1px solid gray;flex-grow: 1;}#sk-container-id-3 div.sk-label:hover label.sk-toggleable__label {background-color: #d4ebff;}#sk-container-id-3 div.sk-serial::before {content: \"\";position: absolute;border-left: 1px solid gray;box-sizing: border-box;top: 0;bottom: 0;left: 50%;z-index: 0;}#sk-container-id-3 div.sk-serial {display: flex;flex-direction: column;align-items: center;background-color: white;padding-right: 0.2em;padding-left: 0.2em;position: relative;}#sk-container-id-3 div.sk-item {position: relative;z-index: 1;}#sk-container-id-3 div.sk-parallel {display: flex;align-items: stretch;justify-content: center;background-color: white;position: relative;}#sk-container-id-3 div.sk-item::before, #sk-container-id-3 div.sk-parallel-item::before {content: \"\";position: absolute;border-left: 1px solid gray;box-sizing: border-box;top: 0;bottom: 0;left: 50%;z-index: -1;}#sk-container-id-3 div.sk-parallel-item {display: flex;flex-direction: column;z-index: 1;position: relative;background-color: white;}#sk-container-id-3 div.sk-parallel-item:first-child::after {align-self: flex-end;width: 50%;}#sk-container-id-3 div.sk-parallel-item:last-child::after {align-self: flex-start;width: 50%;}#sk-container-id-3 div.sk-parallel-item:only-child::after {width: 0;}#sk-container-id-3 div.sk-dashed-wrapped {border: 1px dashed gray;margin: 0 0.4em 0.5em 0.4em;box-sizing: border-box;padding-bottom: 0.4em;background-color: white;}#sk-container-id-3 div.sk-label label {font-family: monospace;font-weight: bold;display: inline-block;line-height: 1.2em;}#sk-container-id-3 div.sk-label-container {text-align: center;}#sk-container-id-3 div.sk-container {/* jupyter's `normalize.less` sets `[hidden] { display: none; }` but bootstrap.min.css set `[hidden] { display: none !important; }` so we also need the `!important` here to be able to override the default hidden behavior on the sphinx rendered scikit-learn.org. See: https://github.com/scikit-learn/scikit-learn/issues/21755 */display: inline-block !important;position: relative;}#sk-container-id-3 div.sk-text-repr-fallback {display: none;}</style><div id=\"sk-container-id-3\" class=\"sk-top-container\"><div class=\"sk-text-repr-fallback\"><pre>LinearRegression()</pre><b>In a Jupyter environment, please rerun this cell to show the HTML representation or trust the notebook. <br />On GitHub, the HTML representation is unable to render, please try loading this page with nbviewer.org.</b></div><div class=\"sk-container\" hidden><div class=\"sk-item\"><div class=\"sk-estimator sk-toggleable\"><input class=\"sk-toggleable__control sk-hidden--visually\" id=\"sk-estimator-id-3\" type=\"checkbox\" checked><label for=\"sk-estimator-id-3\" class=\"sk-toggleable__label sk-toggleable__label-arrow\">LinearRegression</label><div class=\"sk-toggleable__content\"><pre>LinearRegression()</pre></div></div></div></div></div>"
      ],
      "text/plain": [
       "LinearRegression()"
      ]
     },
     "execution_count": 105,
     "metadata": {},
     "output_type": "execute_result"
    }
   ],
   "source": [
    "model = LinearRegression()\n",
    "\n",
    "model.fit(Xtrain, ytrain)"
   ]
  },
  {
   "cell_type": "markdown",
   "metadata": {},
   "source": [
    "## Obtendo as pontuações do modelo linear e plotando os maiores coeficientes do modelo"
   ]
  },
  {
   "cell_type": "code",
   "execution_count": 106,
   "metadata": {},
   "outputs": [
    {
     "name": "stdout",
     "output_type": "stream",
     "text": [
      "Pontuações: [0.03760098 0.04949325 0.0513448  0.03863159 0.06514478 0.0416779\n",
      " 0.04594978 0.04776896 0.04574678 0.05090857]\n"
     ]
    },
    {
     "data": {
      "image/png": "[encoded data removed]",
      "text/plain": [
       "<Figure size 500x300 with 1 Axes>"
      ]
     },
     "metadata": {},
     "output_type": "display_data"
    }
   ],
   "source": [
    "from sklearn.model_selection import cross_val_score\n",
    "\n",
    "linear_reg_rmse_scores = cross_val_score(model, Xtrain, ytrain, \n",
    "                                    scoring=\"neg_mean_squared_error\", cv=10, n_jobs=-1)\n",
    "\n",
    "linear_reg_rmse_scores = np.sqrt(-linear_reg_rmse_scores)\n",
    "\n",
    "coefs = model.coef_\n",
    "\n",
    "print(f\"Pontuações: {linear_reg_rmse_scores}\")\n",
    "plot_importances(data_columns, coefs,\"Maiores Coeficientes do Modelo\")\n"
   ]
  },
  {
   "cell_type": "markdown",
   "metadata": {},
   "source": [
    "## Obtendo as pontuações do modelo de árvore de decisão e plotando as features mais importantes"
   ]
  },
  {
   "cell_type": "code",
   "execution_count": 107,
   "metadata": {},
   "outputs": [
    {
     "name": "stdout",
     "output_type": "stream",
     "text": [
      "[0.0688566  0.09690146 0.08815814 0.08136923 0.09394751 0.09325996\n",
      " 0.07608728 0.08318627 0.08162541 0.09447632]\n"
     ]
    },
    {
     "data": {
      "image/png": "[encoded data removed]",
      "text/plain": [
       "<Figure size 500x300 with 1 Axes>"
      ]
     },
     "metadata": {},
     "output_type": "display_data"
    }
   ],
   "source": [
    "from sklearn.model_selection import GridSearchCV, cross_val_score\n",
    "from sklearn.tree import DecisionTreeRegressor\n",
    "\n",
    "# Vamos procurar os melhores parâmetros para o DecisionTreeRegressor.\n",
    "grid_search = GridSearchCV(\n",
    "    DecisionTreeRegressor(random_state=RANDOM_SEED),\n",
    "    {'max_depth': [2, 4, 6, 8, 10, 12, 14, 16]},\n",
    "    cv=4, \n",
    "    n_jobs=-1, \n",
    "    scoring='neg_mean_squared_error', \n",
    "    return_train_score=True\n",
    ")\n",
    "\n",
    "\n",
    "grid_search.fit(Xtrain, ytrain)\n",
    "\n",
    "# Vamos adotar o melhor regressor, ou seja, o DesicionTree com os melhores hiperparâmetros.\n",
    "tree = grid_search.best_estimator_\n",
    "\n",
    "# Agora vamos medir o desempenho deste regressor com validação cruzada.\n",
    "tree_scores = cross_val_score(tree, Xtrain, ytrain, \n",
    "                                    scoring=\"neg_mean_squared_error\", cv=10, n_jobs=-1)\n",
    "\n",
    "tree_rmse_scores = np.sqrt(-tree_scores)\n",
    "\n",
    "feature_importances = grid_search.best_estimator_.feature_importances_\n",
    "\n",
    "print(tree_rmse_scores)\n",
    "plot_importances(data_columns, feature_importances,\"Features mais importantes do Modelo\")"
   ]
  },
  {
   "cell_type": "markdown",
   "metadata": {},
   "source": [
    "## Obtendo as pontuações do modelo de regressão Lasso e plotando os maiores coeficientes do modelo."
   ]
  },
  {
   "cell_type": "code",
   "execution_count": 108,
   "metadata": {},
   "outputs": [
    {
     "name": "stdout",
     "output_type": "stream",
     "text": [
      "[0.03836489 0.04956784 0.04914348 0.03859353 0.06538883 0.04099287\n",
      " 0.04523402 0.04757896 0.04498424 0.04836857]\n"
     ]
    },
    {
     "data": {
      "image/png": "[encoded data removed]",
      "text/plain": [
       "<Figure size 500x300 with 1 Axes>"
      ]
     },
     "metadata": {},
     "output_type": "display_data"
    }
   ],
   "source": [
    "from sklearn.linear_model import Lasso\n",
    "# Vamos procurar os melhores parâmetros para o Lasso.\n",
    "\n",
    "grid_search = GridSearchCV(\n",
    "    Lasso(max_iter=10000,random_state=RANDOM_SEED),\n",
    "    {'alpha': [0.00001, 0.0001, 0.001, 0.01, 0.1, 1, 10, 100]},\n",
    "    cv=4, \n",
    "    n_jobs=-1, \n",
    "    scoring='neg_mean_squared_error', \n",
    "    return_train_score=True\n",
    ")\n",
    "\n",
    "grid_search.fit(Xtrain, ytrain)\n",
    "\n",
    "# Vamos adotar o melhor regressor, ou seja, o Lasso com os melhores hiperparâmetros.\n",
    "lasso = grid_search.best_estimator_\n",
    "\n",
    "# Agora vamos medir o desempenho deste regressor com validação cruzada.\n",
    "lasso_scores = cross_val_score(lasso, Xtrain, ytrain, \n",
    "                                    scoring=\"neg_mean_squared_error\", cv=10, n_jobs=-1)\n",
    "\n",
    "lasso_rmse_scores = np.sqrt(-lasso_scores)\n",
    "\n",
    "lasso_coeficientes = lasso.coef_\n",
    "\n",
    "print(lasso_rmse_scores)\n",
    "plot_importances(data_columns, lasso_coeficientes,\"Maiores Coeficientes do Modelo\")"
   ]
  },
  {
   "cell_type": "markdown",
   "metadata": {},
   "source": [
    "O regressor linear Lasso possui uma propriedade que podemos utilizar para ver quais features ele considerou desnecessário ou menos importante na hora de prever o valor dos imóveis, pois ele irá zerar o coeficiente dessas features."
   ]
  },
  {
   "cell_type": "code",
   "execution_count": 109,
   "metadata": {},
   "outputs": [
    {
     "name": "stdout",
     "output_type": "stream",
     "text": [
      "Features desconsideradas: ['Lot.Shape', 'Land.Slope', 'TotRms.AbvGrd', 'MS.SubClass_80', 'MS.SubClass_85', 'MS.SubClass_120', 'MS.SubClass_190', 'MS.SubClass_Other', 'MS.Zoning_RH', 'MS.Zoning_RL', 'Land.Contour_Low', 'Land.Contour_Lvl', 'Neighborhood_BrDale', 'Neighborhood_SWISU', 'Neighborhood_Timber', 'Bldg.Type_2fmCon', 'House.Style_1Story', 'House.Style_2Story', 'House.Style_SLvl', 'Foundation_Other', 'Bsmt.Qual_NA', 'Bsmt.Cond_NA', 'Bsmt.Exposure_NA', 'BsmtFin.Type.1_NA', 'BsmtFin.Type.2_ALQ', 'BsmtFin.Type.2_Rec', 'BsmtFin.Type.2_LwQ', 'BsmtFin.Type.2_NA', 'Garage.Type_Basment', 'Garage.Type_BuiltIn', 'Garage.Type_CarPort', 'Garage.Type_NoGarage', 'Sale.Type_GroupedWD', 'Sale.Condition_AdjLand', 'Condition_Positive', 'Exterior_VinylSd', 'Exterior_WdShing', 'Exterior_Other']\n",
      "Features consideradas: ['Lot.Frontage', 'Lot.Area', 'Overall.Qual', 'Overall.Cond', 'Mas.Vnr.Area', 'Exter.Qual', 'Exter.Cond', 'BsmtFin.SF.1', 'BsmtFin.SF.2', 'Bsmt.Unf.SF', 'Total.Bsmt.SF', 'Heating.QC', 'Electrical', 'X1st.Flr.SF', 'X2nd.Flr.SF', 'Gr.Liv.Area', 'Bsmt.Full.Bath', 'Bsmt.Half.Bath', 'Full.Bath', 'Half.Bath', 'Bedroom.AbvGr', 'Kitchen.AbvGr', 'Kitchen.Qual', 'Functional', 'Fireplaces', 'Garage.Area', 'Paved.Drive', 'Wood.Deck.SF', 'Open.Porch.SF', 'Enclosed.Porch', 'Screen.Porch', 'Fence', 'Mo.Sold', 'Yr.Sold', 'HasShed', 'HasAlley', 'Garage.Age', 'Remod.Age', 'House.Age', 'MS.SubClass_30', 'MS.SubClass_50', 'MS.SubClass_60', 'MS.SubClass_70', 'MS.SubClass_90', 'MS.SubClass_160', 'MS.Zoning_RM', 'Land.Contour_HLS', 'Lot.Config_CulDSac', 'Lot.Config_FR2+', 'Lot.Config_Inside', 'Neighborhood_BrkSide', 'Neighborhood_ClearCr', 'Neighborhood_CollgCr', 'Neighborhood_Crawfor', 'Neighborhood_Edwards', 'Neighborhood_Gilbert', 'Neighborhood_IDOTRR', 'Neighborhood_MeadowV', 'Neighborhood_Mitchel', 'Neighborhood_NAmes', 'Neighborhood_NPkVill', 'Neighborhood_NWAmes', 'Neighborhood_NoRidge', 'Neighborhood_NridgHt', 'Neighborhood_OldTown', 'Neighborhood_Sawyer', 'Neighborhood_SawyerW', 'Neighborhood_Somerst', 'Neighborhood_StoneBr', 'Neighborhood_Veenker', 'Bldg.Type_Duplex', 'Bldg.Type_Twnhs', 'Bldg.Type_TwnhsE', 'House.Style_Other', 'House.Style_SFoyer', 'Roof.Style_Hip', 'Roof.Style_Other', 'Mas.Vnr.Type_Stone', 'Mas.Vnr.Type_Other', 'Mas.Vnr.Type_None', 'Foundation_CBlock', 'Foundation_PConc', 'Bsmt.Qual_Gd', 'Bsmt.Qual_TA', 'Bsmt.Qual_Fa', 'Bsmt.Cond_TA', 'Bsmt.Cond_Fa', 'Bsmt.Exposure_Av', 'Bsmt.Exposure_Mn', 'Bsmt.Exposure_No', 'BsmtFin.Type.1_ALQ', 'BsmtFin.Type.1_BLQ', 'BsmtFin.Type.1_Rec', 'BsmtFin.Type.1_LwQ', 'BsmtFin.Type.1_Unf', 'BsmtFin.Type.2_BLQ', 'BsmtFin.Type.2_Unf', 'Central.Air_Y', 'Garage.Type_Attchd', 'Garage.Type_Detchd', 'Garage.Finish_RFn', 'Garage.Finish_Unf', 'Garage.Finish_NoGarage', 'Sale.Type_Other', 'Sale.Condition_Alloca', 'Sale.Condition_Family', 'Sale.Condition_Normal', 'Sale.Condition_Partial', 'Condition_Railroad', 'Condition_Roads', 'Condition_RoadsAndRailroad', 'Exterior_BrkFace', 'Exterior_CemntBd', 'Exterior_HdBoard', 'Exterior_MetalSd', 'Exterior_Plywood', 'Exterior_Stucco', 'Exterior_Wd Sdng']\n"
     ]
    }
   ],
   "source": [
    "coeficientes = lasso.coef_\n",
    "\n",
    "# Identifica as features desconsideradas (com coeficiente zero)\n",
    "ignored_features = [X.columns[i] for i, coef in enumerate(coeficientes) if coef == 0]\n",
    "# Identifica as features não desconsideradas (com coeficiente diferente de zero)\n",
    "not_ignored_features = [X.columns[i] for i, coef in enumerate(coeficientes) if coef != 0]\n",
    "\n",
    "print(\"Features desconsideradas:\", ignored_features)\n",
    "\n",
    "print(\"Features consideradas:\", not_ignored_features)\n"
   ]
  },
  {
   "cell_type": "markdown",
   "metadata": {},
   "source": [
    "## Obtendo as pontuações do modelo de regressão Ridge e plotando os maiores coeficientes do modelo"
   ]
  },
  {
   "cell_type": "code",
   "execution_count": 110,
   "metadata": {},
   "outputs": [
    {
     "name": "stdout",
     "output_type": "stream",
     "text": [
      "[0.03811099 0.04946284 0.04959461 0.03873113 0.06530507 0.04075864\n",
      " 0.04550493 0.0473739  0.04499432 0.04812083]\n"
     ]
    },
    {
     "data": {
      "image/png": "[encoded data removed]",
      "text/plain": [
       "<Figure size 500x300 with 1 Axes>"
      ]
     },
     "metadata": {},
     "output_type": "display_data"
    }
   ],
   "source": [
    "from sklearn.linear_model import Ridge\n",
    "\n",
    "# Vamos procurar os melhores parâmetros para o Ridge\n",
    "\n",
    "grid_search = GridSearchCV(\n",
    "    Ridge(random_state=RANDOM_SEED),\n",
    "    {'alpha': [0.01, 0.1, 1, 10, 100]},\n",
    "    cv=4,\n",
    "    n_jobs=-1,\n",
    "    scoring='neg_mean_squared_error',\n",
    "    return_train_score=True\n",
    ")\n",
    "\n",
    "grid_search.fit(Xtrain, ytrain)\n",
    "\n",
    "# Vamos adotar o melhor regressor, ou seja, o Ridge com os melhores hiperparâmetros.\n",
    "ridge = grid_search.best_estimator_\n",
    "\n",
    "# Agora vamos medir o desempenho deste regressor com validação cruzada.\n",
    "ridge_scores = cross_val_score(ridge, Xtrain, ytrain, \n",
    "                                    scoring=\"neg_mean_squared_error\", cv=10, n_jobs=-1)\n",
    "\n",
    "ridge_rmse_scores = np.sqrt(-ridge_scores)\n",
    "\n",
    "ridge_coeficientes = ridge.coef_\n",
    "\n",
    "print(ridge_rmse_scores)\n",
    "plot_importances(data_columns, ridge_coeficientes,\"Maiores Coeficientes do Modelo\")"
   ]
  },
  {
   "cell_type": "markdown",
   "metadata": {},
   "source": [
    "## Comparando modelos"
   ]
  },
  {
   "cell_type": "markdown",
   "metadata": {},
   "source": [
    "### Utilizamos o teste t para determinar se as médias das amostras de pontuações obtidas pelos modelos apresentam diferenças estatisticamente significativas."
   ]
  },
  {
   "cell_type": "code",
   "execution_count": 111,
   "metadata": {},
   "outputs": [],
   "source": [
    "from scipy.stats import ttest_ind\n",
    "\n",
    "def compare_scores(scores_1, scores_2):\n",
    "    t_stat, p_value = ttest_ind(scores_1, scores_2, equal_var=False)\n",
    "    print(\"Valor da estatística t: {:.2f}\".format(t_stat))\n",
    "    print(\"Valor-p: {}\".format(p_value))\n",
    "    return t_stat, p_value"
   ]
  },
  {
   "cell_type": "markdown",
   "metadata": {},
   "source": [
    "#### No código abaixo, fica evidente que não temos como inferir um modelo melhor, tendo em vista as comparações entre o Lasso, Ridge e a Regressão Linear. Porém, podemos observar que os dados fornecem evidência convincente de que o modelo de Árvore de decisão é inferior aos demais."
   ]
  },
  {
   "cell_type": "code",
   "execution_count": 112,
   "metadata": {},
   "outputs": [
    {
     "name": "stdout",
     "output_type": "stream",
     "text": [
      "\n",
      "Comparando Lasso com Ridge\n",
      "Valor da estatística t: 0.01\n",
      "Valor-p: 0.9940980373160676\n",
      "\n",
      "Comparando Linear Regression com Lasso\n",
      "Valor da estatística t: 0.17\n",
      "Valor-p: 0.864383486902911\n",
      "\n",
      "Comparando Linear Regression com Ridge\n",
      "Valor da estatística t: 0.18\n",
      "Valor-p: 0.8587309957877826\n",
      "\n",
      "Comparando Decision Tree com Lasso\n",
      "Valor da estatística t: 10.29\n",
      "Valor-p: 7.522432536103319e-09\n",
      "Erro médio de Decision Tree é significavelmente diferente de Lasso.\n",
      "\n",
      "Comparando Decision Tree com Ridge\n",
      "Valor da estatística t: 10.29\n",
      "Valor-p: 7.485443430998512e-09\n",
      "Erro médio de Decision Tree é significavelmente diferente de Ridge.\n",
      "\n",
      "Comparando Decision Tree com Linear Regression\n",
      "Valor da estatística t: 10.06\n",
      "Valor-p: 1.0092876285641918e-08\n",
      "Erro médio de Decision Tree é significavelmente diferente de Linear Regression.\n"
     ]
    }
   ],
   "source": [
    "from scipy.stats import mannwhitneyu\n",
    "\n",
    "def compare_models(name1, rmse_scores1, name2, rmse_scores2):\n",
    "    t_stat, p_value = compare_scores(rmse_scores1, rmse_scores2)\n",
    "    if p_value < 0.05:\n",
    "        print(f'Erro médio de {name1} é significavelmente diferente de {name2}.')\n",
    "\n",
    "dict_final = {'Linear Regression': linear_reg_rmse_scores, 'Decision Tree': tree_rmse_scores, 'Lasso': lasso_rmse_scores, 'Ridge': ridge_rmse_scores}\n",
    "dict_perm = {'Lasso': ['Ridge'],'Linear Regression': ['Lasso','Ridge'], 'Decision Tree': ['Lasso','Ridge','Linear Regression']}\n",
    "\n",
    "for key, value in dict_perm.items():\n",
    "    for i in value:\n",
    "        print(f\"\\nComparando {key} com {i}\")\n",
    "        compare_models(key, dict_final[key], i, dict_final[i])\n",
    "\n"
   ]
  },
  {
   "cell_type": "markdown",
   "metadata": {},
   "source": [
    "#### Logo, podemos escolher qualquer um dos três modelos que possuem estatísticas semelhantes. Escolhemos pegar o com a menor média das pontuações de RMSE, ou seja, usaremos o Ridge."
   ]
  },
  {
   "cell_type": "code",
   "execution_count": 113,
   "metadata": {},
   "outputs": [
    {
     "name": "stdout",
     "output_type": "stream",
     "text": [
      "Média das pontuações de RMSE na Regressão Linear: 0.047426738395508525\n",
      "Média das pontuações de RMSE no Lasso: 0.046821723461026254\n",
      "Média das pontuações de RMSE no Ridge: 0.04679572679322852\n"
     ]
    }
   ],
   "source": [
    "print(f\"Média das pontuações de RMSE na Regressão Linear: {linear_reg_rmse_scores.mean()}\")\n",
    "print(f\"Média das pontuações de RMSE no Lasso: {lasso_rmse_scores.mean()}\")\n",
    "print(f\"Média das pontuações de RMSE no Ridge: {ridge_rmse_scores.mean()}\")"
   ]
  },
  {
   "cell_type": "markdown",
   "metadata": {},
   "source": [
    "### Aplicamos então o modelo Ridge para obter o RMSE. "
   ]
  },
  {
   "cell_type": "code",
   "execution_count": 114,
   "metadata": {},
   "outputs": [
    {
     "data": {
      "text/plain": [
       "0.040359056734713274"
      ]
     },
     "execution_count": 114,
     "metadata": {},
     "output_type": "execute_result"
    }
   ],
   "source": [
    "ridge.fit(Xtrain, ytrain)\n",
    "ridge_pred = ridge.predict(Xtest)\n",
    "RMSE = np.sqrt(mean_squared_error(ytest, ridge_pred))\n",
    "RMSE\n"
   ]
  },
  {
   "cell_type": "code",
   "execution_count": 115,
   "metadata": {},
   "outputs": [
    {
     "name": "stdout",
     "output_type": "stream",
     "text": [
      "RIDGE: Average error is 9.74%\n"
     ]
    }
   ],
   "source": [
    "error_percent = 100 * (10**RMSE - 1)\n",
    "print(f'RIDGE: Average error is {error_percent:.2f}%')"
   ]
  },
  {
   "cell_type": "markdown",
   "metadata": {},
   "source": [
    "### Portanto, conseguimos alcançar um modelo com um erro médio de 9.74% na predição do preço das casas, o que aparenta ser um bom resultado."
   ]
  }
 ],
 "metadata": {
  "kernelspec": {
   "display_name": "ames",
   "language": "python",
   "name": "python3"
  },
  "language_info": {
   "codemirror_mode": {
    "name": "ipython",
    "version": 3
   },
   "file_extension": ".py",
   "mimetype": "text/x-python",
   "name": "python",
   "nbconvert_exporter": "python",
   "pygments_lexer": "ipython3",
   "version": "3.11.4"
  },
  "orig_nbformat": 4,
  "vscode": {
   "interpreter": {
    "hash": "dbd4e51fa3f3bf2a2317a230e3ac8d5fc66f1a44e44c3383f6bf669b9d199507"
   }
  }
 },
 "nbformat": 4,
 "nbformat_minor": 2
}
